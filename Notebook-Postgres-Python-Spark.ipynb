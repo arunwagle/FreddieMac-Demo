{
 "cells": [
  {
   "cell_type": "code",
   "execution_count": 4,
   "metadata": {
    "collapsed": false
   },
   "outputs": [],
   "source": [
    "# %Addjar -f https://jdbc.postgresql.org/download/postgresql-9.4.1207.jre7.jar"
   ]
  },
  {
   "cell_type": "code",
   "execution_count": 5,
   "metadata": {
    "collapsed": true
   },
   "outputs": [],
   "source": [
    "credentials_1 = {\n",
    "  'host':'aws-us-east-1-portal.21.dblayer.com',\n",
    "  'port':'15169',\n",
    "  'user':'admin',\n",
    "  'password':\"\"\"RLMPFGGVDWTAZFMT\"\"\",\n",
    "  'database':'compose', \n",
    "  'jdbcurl': 'jdbc:postgresql://aws-us-east-1-portal.21.dblayer.com:15169/compose'  \n",
    "}"
   ]
  },
  {
   "cell_type": "code",
   "execution_count": 6,
   "metadata": {
    "collapsed": false
   },
   "outputs": [
    {
     "name": "stdout",
     "output_type": "stream",
     "text": [
      "root\n",
      " |-- company: string (nullable = true)\n",
      " |-- high: integer (nullable = false)\n",
      " |-- low: integer (nullable = false)\n",
      " |-- cdate: date (nullable = false)\n",
      "\n"
     ]
    }
   ],
   "source": [
    "from pyspark.sql import SQLContext\n",
    "sqlContext = SQLContext(sc)\n",
    "\n",
    "props = {}\n",
    "props['user'] = credentials_1['user']\n",
    "props['password'] = credentials_1['password']\n",
    "\n",
    "\n",
    "# fill in table name\n",
    "#credentials_1['schema'] + \".\" + \n",
    "table = \"STOCK_PRICES\"\n",
    "\n",
    "data_df = sqlContext.read.jdbc(credentials_1['jdbcurl'],table,properties=props)\n",
    "data_df.printSchema()"
   ]
  },
  {
   "cell_type": "code",
   "execution_count": 7,
   "metadata": {
    "collapsed": false
   },
   "outputs": [
    {
     "data": {
      "text/plain": [
       "[Row(company=u'IBM                                               ', high=160, low=140, cdate=datetime.date(2016, 9, 5)),\n",
       " Row(company=u'AAPL                                              ', high=90, low=110, cdate=datetime.date(2016, 9, 6)),\n",
       " Row(company=u'AAPL                                              ', high=90, low=110, cdate=datetime.date(2016, 9, 6)),\n",
       " Row(company=u'IBM                                               ', high=160, low=140, cdate=datetime.date(2016, 9, 5))]"
      ]
     },
     "execution_count": 7,
     "metadata": {},
     "output_type": "execute_result"
    }
   ],
   "source": [
    "data_df.take(5)"
   ]
  },
  {
   "cell_type": "code",
   "execution_count": null,
   "metadata": {
    "collapsed": true
   },
   "outputs": [],
   "source": []
  }
 ],
 "metadata": {
  "kernelspec": {
   "display_name": "Python 2",
   "language": "python",
   "name": "python2"
  },
  "language_info": {
   "codemirror_mode": {
    "name": "ipython",
    "version": 2
   },
   "file_extension": ".py",
   "mimetype": "text/x-python",
   "name": "python",
   "nbconvert_exporter": "python",
   "pygments_lexer": "ipython2",
   "version": "2.7.11"
  }
 },
 "nbformat": 4,
 "nbformat_minor": 0
}